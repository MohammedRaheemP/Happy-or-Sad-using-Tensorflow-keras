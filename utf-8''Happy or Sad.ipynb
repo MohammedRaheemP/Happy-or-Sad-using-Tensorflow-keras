{
 "cells": [
  {
   "cell_type": "markdown",
   "metadata": {
    "colab_type": "text",
    "id": "UncprnB0ymAE"
   },
   "source": [
    "Below is code with a link to a happy or sad dataset which contains 80 images, 40 happy and 40 sad. \n",
    "Create a convolutional neural network that trains to 100% accuracy on these images,  which cancels training upon hitting training accuracy of >.999\n",
    "\n",
    "Hint -- it will work best with 3 convolutional layers."
   ]
  },
  {
   "cell_type": "code",
   "execution_count": 1,
   "metadata": {},
   "outputs": [],
   "source": [
    "import tensorflow as tf\n",
    "import os\n",
    "import zipfile\n",
    "from os import path, getcwd, chdir\n",
    "\n",
    "# DO NOT CHANGE THE LINE BELOW. If you are developing in a local\n",
    "# environment, then grab happy-or-sad.zip from the Coursera Jupyter Notebook\n",
    "# and place it inside a local folder and edit the path to that location\n",
    "path = f\"{getcwd()}/../tmp2/happy-or-sad.zip\"\n",
    "\n",
    "zip_ref = zipfile.ZipFile(path, 'r')\n",
    "zip_ref.extractall(\"/tmp/h-or-s\")\n",
    "zip_ref.close()"
   ]
  },
  {
   "cell_type": "code",
   "execution_count": 2,
   "metadata": {},
   "outputs": [],
   "source": [
    "# GRADED FUNCTION: train_happy_sad_model\n",
    "def train_happy_sad_model():\n",
    "    # Please write your code only where you are indicated.\n",
    "    # please do not remove # model fitting inline comments.\n",
    "\n",
    "    DESIRED_ACCURACY = 0.999\n",
    "\n",
    "    class myCallback(tf.keras.callbacks.Callback):\n",
    "        def on_epoch_end(self, epoch, logs={}):\n",
    "            if(logs.get('acc')>DESIRED_ACCURACY):\n",
    "                self.model.stop_training=True\n",
    "                print(\"Reached 99.8% accuracy so cancelling training!\")\n",
    "\n",
    "    callbacks = myCallback()\n",
    "    \n",
    "    # This Code Block should Define and Compile the Model. Please assume the images are 150 X 150 in your implementation.\n",
    "    model = tf.keras.models.Sequential([\n",
    "        \n",
    "        tf.keras.layers.Conv2D(16,(3,3),activation='relu',input_shape=(150,150,3)),\n",
    "        tf.keras.layers.MaxPooling2D(2,2),\n",
    "        tf.keras.layers.Conv2D(32,(3,3),activation='relu'),tf.keras.layers.MaxPooling2D(2,2),\n",
    "        tf.keras.layers.Conv2D(64,(3,3),activation='relu'),tf.keras.layers.MaxPooling2D(2,2),\n",
    "                                       \n",
    "        tf.keras.layers.Flatten(),                                    \n",
    "        tf.keras.layers.Dense(512,activation='relu'),\n",
    "        tf.keras.layers.Dense(1,activation='sigmoid') \n",
    "    ])\n",
    "\n",
    "    from tensorflow.keras.optimizers import RMSprop\n",
    "\n",
    "    model.compile(loss='binary_crossentropy',optimizer=RMSprop(lr=0.001),metrics=['acc'])\n",
    "        \n",
    "\n",
    "    # This code block should create an instance of an ImageDataGenerator called train_datagen \n",
    "    # And a train_generator by calling train_datagen.flow_from_directory\n",
    "\n",
    "    from tensorflow.keras.preprocessing.image import ImageDataGenerator\n",
    "\n",
    "    train_datagen = ImageDataGenerator(rescale=1/255)\n",
    "    validation_datagen = ImageDataGenerator(rescale=1/255)\n",
    "\n",
    "    # Please use a target_size of 150 X 150.\n",
    "    train_generator = train_datagen.flow_from_directory('/tmp/h-or-s/',target_size=(150, 150),\n",
    "                                                        batch_size=128,class_mode='binary')\n",
    "    validation_generator = validation_datagen.flow_from_directory('/tmp/h-or-s/',target_size=(150, 150),\n",
    "                                                        batch_size=128,class_mode='binary')\n",
    "\n",
    "    # Expected output: 'Found 80 images belonging to 2 classes'\n",
    "    #valodation_generator=validation_datagen.\n",
    "    # This code block should call model.fit_generator and train for\n",
    "    # a number of epochs.\n",
    "    # model fitting\n",
    "    history = model.fit_generator(train_generator,steps_per_epoch=8,epochs=15,verbose=1,\n",
    "                                  validation_data=validation_generator,validation_steps=8)\n",
    "    # model fitting\n",
    "    return history.history['acc'][-1]"
   ]
  },
  {
   "cell_type": "code",
   "execution_count": 3,
   "metadata": {},
   "outputs": [
    {
     "name": "stderr",
     "output_type": "stream",
     "text": [
      "WARNING: Logging before flag parsing goes to stderr.\n",
      "W0128 03:38:03.960396 140192953075520 deprecation.py:506] From /usr/local/lib/python3.6/dist-packages/tensorflow/python/ops/init_ops.py:1251: calling VarianceScaling.__init__ (from tensorflow.python.ops.init_ops) with dtype is deprecated and will be removed in a future version.\n",
      "Instructions for updating:\n",
      "Call initializer instance with the dtype argument instead of passing it to the constructor\n",
      "W0128 03:38:04.443427 140192953075520 deprecation.py:323] From /usr/local/lib/python3.6/dist-packages/tensorflow/python/ops/nn_impl.py:180: add_dispatch_support.<locals>.wrapper (from tensorflow.python.ops.array_ops) is deprecated and will be removed in a future version.\n",
      "Instructions for updating:\n",
      "Use tf.where in 2.0, which has the same broadcast rule as np.where\n"
     ]
    },
    {
     "name": "stdout",
     "output_type": "stream",
     "text": [
      "Found 80 images belonging to 2 classes.\n",
      "Found 80 images belonging to 2 classes.\n",
      "Epoch 1/15\n",
      "8/8 [==============================] - 11s 1s/step - loss: 1.6031 - acc: 0.6344 - val_loss: 0.4242 - val_acc: 0.7500\n",
      "Epoch 2/15\n",
      "8/8 [==============================] - 5s 625ms/step - loss: 0.3845 - acc: 0.8016 - val_loss: 0.1253 - val_acc: 0.9500\n",
      "Epoch 3/15\n",
      "8/8 [==============================] - 5s 625ms/step - loss: 0.1311 - acc: 0.9625 - val_loss: 0.0753 - val_acc: 1.0000\n",
      "Epoch 4/15\n",
      "8/8 [==============================] - 5s 612ms/step - loss: 0.0803 - acc: 0.9750 - val_loss: 0.0568 - val_acc: 1.0000\n",
      "Epoch 5/15\n",
      "8/8 [==============================] - 5s 612ms/step - loss: 0.0485 - acc: 0.9812 - val_loss: 0.0286 - val_acc: 1.0000\n",
      "Epoch 6/15\n",
      "8/8 [==============================] - 5s 624ms/step - loss: 0.0178 - acc: 1.0000 - val_loss: 0.0077 - val_acc: 1.0000\n",
      "Epoch 7/15\n",
      "8/8 [==============================] - 5s 637ms/step - loss: 0.0055 - acc: 1.0000 - val_loss: 0.0037 - val_acc: 1.0000\n",
      "Epoch 8/15\n",
      "8/8 [==============================] - 5s 624ms/step - loss: 0.0026 - acc: 1.0000 - val_loss: 0.0014 - val_acc: 1.0000\n",
      "Epoch 9/15\n",
      "8/8 [==============================] - 5s 602ms/step - loss: 0.0010 - acc: 1.0000 - val_loss: 6.5777e-04 - val_acc: 1.0000\n",
      "Epoch 10/15\n",
      "8/8 [==============================] - 5s 622ms/step - loss: 4.9003e-04 - acc: 1.0000 - val_loss: 3.1853e-04 - val_acc: 1.0000\n",
      "Epoch 11/15\n",
      "8/8 [==============================] - 5s 602ms/step - loss: 2.3487e-04 - acc: 1.0000 - val_loss: 1.5263e-04 - val_acc: 1.0000\n",
      "Epoch 12/15\n",
      "8/8 [==============================] - 5s 622ms/step - loss: 1.1486e-04 - acc: 1.0000 - val_loss: 7.6504e-05 - val_acc: 1.0000\n",
      "Epoch 13/15\n",
      "8/8 [==============================] - 5s 624ms/step - loss: 5.7873e-05 - acc: 1.0000 - val_loss: 3.8741e-05 - val_acc: 1.0000\n",
      "Epoch 14/15\n",
      "8/8 [==============================] - 5s 612ms/step - loss: 2.9570e-05 - acc: 1.0000 - val_loss: 2.0146e-05 - val_acc: 1.0000\n",
      "Epoch 15/15\n",
      "8/8 [==============================] - 5s 612ms/step - loss: 1.5647e-05 - acc: 1.0000 - val_loss: 1.1051e-05 - val_acc: 1.0000\n"
     ]
    },
    {
     "data": {
      "text/plain": [
       "1.0"
      ]
     },
     "execution_count": 3,
     "metadata": {},
     "output_type": "execute_result"
    }
   ],
   "source": [
    "# The Expected output: \"Reached 99.9% accuracy so cancelling training!\"\"\n",
    "train_happy_sad_model()"
   ]
  },
  {
   "cell_type": "code",
   "execution_count": null,
   "metadata": {},
   "outputs": [],
   "source": []
  }
 ],
 "metadata": {
  "coursera": {
   "course_slug": "introduction-tensorflow",
   "graded_item_id": "1kAlw",
   "launcher_item_id": "PNLYD"
  },
  "kernelspec": {
   "display_name": "Python 3",
   "language": "python",
   "name": "python3"
  },
  "language_info": {
   "codemirror_mode": {
    "name": "ipython",
    "version": 3
   },
   "file_extension": ".py",
   "mimetype": "text/x-python",
   "name": "python",
   "nbconvert_exporter": "python",
   "pygments_lexer": "ipython3",
   "version": "3.6.8"
  }
 },
 "nbformat": 4,
 "nbformat_minor": 1
}
